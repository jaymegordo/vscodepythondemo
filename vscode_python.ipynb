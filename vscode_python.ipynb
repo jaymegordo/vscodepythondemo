{
 "cells": [
  {
   "cell_type": "markdown",
   "metadata": {},
   "source": [
    "# VS Code for Python"
   ]
  },
  {
   "cell_type": "markdown",
   "metadata": {},
   "source": [
    "[Visual Studio Code](https://code.visualstudio.com) is a lightweight, open-source code editor, designed to be much simpler and more accessible than a full-featured IDE. Don't let \"lightweight\" deter you, or make you think for even a second this application can't do absolutely anything and everythig you'd ever need to do!\n",
    "\n",
    "I've used VS Code daily for the past three years, starting with very little programming knowledge (we don't count VBA right?), and have since progressed to building and mantaining a _very important_ application used internally at my company by several hundred people. I'm frequent visitor to the trenches of their GitHub Issues, and have figured out how to make VS Code do everything I need to do with good-ol-fashioned hundreds of hours of googling + trial and error.\n",
    "\n",
    "In this post I'll aim to take you from little or zero VS Code experience all the way to my highly biased opinions of the best/most efficient way to do things."
   ]
  },
  {
   "cell_type": "markdown",
   "metadata": {},
   "source": [
    "## First things first\n",
    "Lets keep it simple with some nice bulleted lists:\n",
    "\n",
    "### Installs\n",
    "- [Visual Studio Code](https://code.visualstudio.com)\n",
    "- [Python](https://www.python.org/downloads/)\n",
    "- [Git](https://git-scm.com/downloads)\n",
    "  - Not critical to get started but likely very useful.\n",
    "\n",
    "Make sure you have these main applications insstalled, installing python/git with package managers like homebrew is fine.\n",
    "\n",
    "### VS Code Extensions\n",
    "- Probably want\n",
    "  - [Python](https://marketplace.visualstudio.com/items?itemName=ms-python.python)\n",
    "  - [Pylance](https://marketplace.visualstudio.com/items?itemName=ms-python.vscode-pylance)\n",
    "    - Adds very helpful syntax highlight, intellisense, autocomplete, etc.\n",
    "  - [Jupyter](https://marketplace.visualstudio.com/items?itemName=ms-toolsai.jupyter)\n",
    "    - Lets you run `.ipynb` notebooks and the `Python Interactive Window`\n",
    "  - [GitLens](https://marketplace.visualstudio.com/items?itemName=eamodio.gitlens)\n",
    "    - Adds helpful git-related functionality.\n",
    "  - [Go To Method](https://marketplace.visualstudio.com/items?itemName=trixnz.go-to-method)\n",
    "    - Adds support for quickly jumping to function definitions by keyboard shortcut.\n",
    "  - [GitHub Color Theme](https://marketplace.visualstudio.com/items?itemName=GitHub.github-vscode-theme)\n",
    "    - This is the best theme in no uncertain terms.\n",
    "- Nice to have\n",
    "  - [HTML Preview](https://marketplace.visualstudio.com/items?itemName=tht13.html-preview-vscode)\n",
    "  - [Selection Word Count](https://marketplace.visualstudio.com/items?itemName=witulski.selection-word-count)\n",
    "    - Useful when you need to count words for a blog post like this.\n",
    "  - [Sort Json](https://marketplace.visualstudio.com/items?itemName=richie5um2.vscode-sort-json)\n",
    "    - Many settings in VS Code are controlled by json files.\n",
    "  - [Tab Out](https://marketplace.visualstudio.com/items?itemName=albert.TabOut)\n",
    "    - Tab out of quotes, brackets, etc\n",
    "  - [Edit CSV](https://marketplace.visualstudio.com/items?itemName=janisdd.vscode-edit-csv)\n",
    "    - Edit csv files with a table UI.\n",
    "  - [Excel Viewer](https://marketplace.visualstudio.com/items?itemName=GrapeCity.gc-excelviewer)\n",
    "    - Quickly view excel files without having to wait days for Excel to open.\n",
    "\n",
    "\n",
    "All links here point to the vs marketplace, but the extensions can be installed much more easily by just searching their names in the extensions tab."
   ]
  },
  {
   "cell_type": "markdown",
   "metadata": {},
   "source": [
    "## Anatomy of the Window\n",
    "\n",
    "Any new and complex-looking UI can be intimidating at first, so lets break down the main components of the VS Code window.\n",
    "\n",
    "<img src=\"./images/vscode_window.png\" width=\"1000\" style=\"display: block; margin-left: auto; margin-right: auto;\"/>\n"
   ]
  },
  {
   "cell_type": "markdown",
   "metadata": {},
   "source": [
    "These are some of the areas of the window I'm focused on most frequently:\n",
    "- **File Explorer** - When your project is opened as a \"workspace\", this sets vscode's workspace root folder and displays all files/subfolders.\n",
    "  - `File > Open > select a folder to open`\n",
    "- **Git** - (Or source control) - this pane manages all your git releted actions.\n",
    "- **Extensions** - Install new vscode extensions.\n",
    "- **Active Python Interpreter** - Tells you which python environment is active. This can be changed with `command palette > select interpreter`\n",
    "- **Code Editor** - A view which displays the active text/code file. Could be python, text, markdown etc.\n",
    "- **Terminal Window** - Can display one or more terminals, as well as other output information from running extensions (eg git, jupyter, python etc).\n",
    "- **Python Interactive Window** - This is where the magic happens, we'll get to it shortly.\n"
   ]
  },
  {
   "cell_type": "markdown",
   "metadata": {},
   "source": [
    "## Workflow\n",
    "\n",
    "Now lets talk about some general workflow actions. Using these commands can vastly speed up your vscode experience.\n",
    "\n",
    "### Command Palette\n",
    "\n",
    "The command palette is your main launchpad for almost any action, and can be activated with `cmd + shift + p`. Then start typing the name of any action or setting (chances are it will show up at the top within a few characters) and press enter. I use the command palette _very_ frequently, likely 10-20 times per hour.\n",
    "\n",
    "<img src=\"./images/command_palette.png\" width=\"600\" style=\"display: block; margin-left: auto; margin-right: auto;\"/>\n",
    "\n",
    "### File Launcher\n",
    "\n",
    "The file launcher is similar to the command palette, (its actually the exact same, but launched without the leading \">\"). This is the fastest way to jump to any of your files (open or closed), and can be launched with `cmd + p`. Start typing the name of a file and press enter to open.\n",
    "\n",
    "<img src=\"./images/file_launcher.png\" width=\"600\" style=\"display: block; margin-left: auto; margin-right: auto;\"/>\n",
    "\n",
    "### Settings\n",
    "\n",
    "Settings in vs code can be changed through the settings UI, or by directly editing the `settings.json` file. Both can be accessed through the command palette by typing `open settings... (UI | JSON)`. There are both `workspace` and `user` specific settings, but I generally only change user (global) settings.\n",
    "\n",
    "<img src=\"./images/settings.png\" width=\"1000\" style=\"display: block; margin-left: auto; margin-right: auto;\"/>"
   ]
  },
  {
   "cell_type": "markdown",
   "metadata": {},
   "source": [
    "## Jupyter Interactive Window\n",
    "\n",
    "Now, as promised, we'll talk about (in my opinion) the most important yet least obvious and most overlooked feature of vscode when developing in python - the Jupyter Interactive Window.\n",
    "\n",
    "It's hard to overstate the value of the interactive window. Combined with the fact that vs code doesn't open in a browser (gross), this feature is what makes vs code so fast/easy/painless to do everything from testing out a couple lines of code, to building complete applications.\n",
    "\n",
    "The interactive window is a [REPL](https://en.wikipedia.org/wiki/Read–eval–print_loop) environment, and runs a standard Jupyter kernel under the hood. You can set it to use any of your conda or pipenv environments (highly recommend), or just let it use your base python installation.\n",
    "\n",
    "### Settings\n",
    "\n",
    "More settings! To help the interactive window achieve it's full potetential, we'll add a few things to `settings.json`:\n",
    "\n",
    "```json\n",
    "    \"files.autoSave\": \"onFocusChange\",\n",
    "    \"jupyter.notebookFileRoot\": \"${workspaceFolder}\",\n",
    "    \"jupyter.runStartupCommands\": [\n",
    "        \"%load_ext autoreload\",\n",
    "        \"%autoreload 2\",\n",
    "        \"%config Completer.use_jedi = False\"\n",
    "    ],\n",
    "```\n",
    "\n",
    "- `onFocusChange` tells vscode to save any file editor as soon as your cursor moves out of the frame.\n",
    "- `notebookFileRoot` sets jupyter to set its cwd to your workspace root folder, which is important so we can access our files/packages easily.\n",
    "- `runStartupCommands` tells jupyter to reload your files whenever they change on disk, which lets us quickly edit files and test them out in the interactive window.\n",
    "\n",
    "### Usage\n",
    "\n",
    "Now you should be able to lauch an interactive window, and import your modules/functions.\n",
    "\n",
    "With a directory structure like:\n",
    "```\n",
    "RootFolder\n",
    "├── my_package\n",
    "│   |── __init__.py\n",
    "|   └── my_module.py\n",
    "```\n",
    "\n",
    "You can import modules and call functions with:\n",
    "```python\n",
    "from my_package import my_module as mm\n",
    "mm.my_function()\n",
    "```\n",
    "\n",
    "Here's what that example looks like in practice:\n",
    "\n",
    "<img src=\"./images/jupyter_example.png\" width=\"1000\" style=\"display: block; margin-left: auto; margin-right: auto;\"/>\n",
    "\n",
    "Now we can very quickly write/edit/test a function, immediately see what works or doesn't, and play with the resulting variables."
   ]
  },
  {
   "cell_type": "markdown",
   "metadata": {},
   "source": [
    "## Conslusion\n",
    "\n",
    "This was a very brief introduction to vs code with python and the jupyter interactive window. Hopefully it has given you enough of an example to get started playing with python or moving into more structured package development, all in vs code!"
   ]
  }
 ],
 "metadata": {
  "kernelspec": {
   "display_name": "Python 3",
   "language": "python",
   "name": "python3"
  },
  "language_info": {
   "name": "python",
   "nbconvert_exporter": "python",
   "version": "3.9.1"
  },
  "orig_nbformat": 2
 },
 "nbformat": 4,
 "nbformat_minor": 2
}